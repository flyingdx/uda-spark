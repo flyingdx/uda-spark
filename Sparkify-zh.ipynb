{
 "cells": [
  {
   "cell_type": "markdown",
   "metadata": {},
   "source": [
    "# Sparkify 项目 Workspace\n",
    "这个 Workspace 包括一个迷你的子数据集（128MB），是完整数据集（12GB）的一个子集。在将你的项目部署到云上之前，你可以自由使用 Workspace 来创建你的项目或用Spark来探索这个较小数据集。设置 Spark 集群的指南可以在选修 Spark 课程的内容里找到。\n",
    "\n",
    "你可以依照下面的步骤进行项目的数据分析和模型搭建部分。"
   ]
  },
  {
   "cell_type": "markdown",
   "metadata": {},
   "source": [
    "# 项目概述"
   ]
  },
  {
   "cell_type": "markdown",
   "metadata": {},
   "source": [
    "* 项目概述\n",
    "\n",
    "该数据集是一个音乐服务的用户日志，包含了用户信息，歌曲信息，用户活动，时间戳等。我们尝试分析日志，提取与用户流失相关的变量，并使用Spark建立模型去识别可能流失的用户，以便于后续采取措施挽留用户\n",
    "\n",
    "* 项目思路\n",
    "  * 1.加载库，创建Spark session\n",
    "  * 2.加载与清洗数据\n",
    "  * 3.探索性数据分析，寻找变量间关系\n",
    "  * 4.构建用于预测的特征\n",
    "  * 5.建模预测\n",
    "  * 6.结论汇总\n",
    "  \n",
    "* 评价指标\n",
    "  * 因为流失顾客数据集很小，Accuracy很难反映模型好坏，根据建议选用 F1 score 作为优化指标\n"
   ]
  },
  {
   "cell_type": "code",
   "execution_count": 1,
   "metadata": {},
   "outputs": [],
   "source": [
    "# import libraries\n",
    "#加载pyspark相关的库\n",
    "from pyspark.sql.functions import avg,col,concat,desc,explode,lit,min,max,split,udf\n",
    "from pyspark.sql.types import IntegerType\n",
    "from pyspark.sql import Window\n",
    "from pyspark.sql import SparkSession\n",
    "\n",
    "from pyspark.ml import Pipeline\n",
    "from pyspark.ml.classification import LogisticRegression,GBTClassifier,LinearSVC,RandomForestClassifier\n",
    "from pyspark.ml.evaluation import MulticlassClassificationEvaluator\n",
    "from pyspark.ml.feature import StandardScaler,VectorAssembler\n",
    "from pyspark.ml.tuning import CrossValidator,ParamGridBuilder\n",
    "\n",
    "#加载pandas、numpy、matplotlib、seaborn\n",
    "import pandas as pd\n",
    "import numpy as np\n",
    "import matplotlib.pyplot as plt\n",
    "import seaborn as sns\n",
    "\n",
    "#加载datetime\n",
    "import datetime\n",
    "from time import time\n"
   ]
  },
  {
   "cell_type": "code",
   "execution_count": 3,
   "metadata": {},
   "outputs": [],
   "source": [
    "# create a Spark session\n",
    "spark=SparkSession.builder.getOrCreate()"
   ]
  },
  {
   "cell_type": "markdown",
   "metadata": {},
   "source": [
    "# 1加载和清洗数据\n",
    "在这个 Workspace 中，小数据集的名称是 `mini_sparkify_event_data.json`.加载和清洗数据集，检查是否有无效或缺失数据——例如，没有userid或sessionid的数据。 "
   ]
  },
  {
   "cell_type": "markdown",
   "metadata": {},
   "source": [
    "### 1.1 加载数据"
   ]
  },
  {
   "cell_type": "code",
   "execution_count": 4,
   "metadata": {},
   "outputs": [
    {
     "data": {
      "text/plain": [
       "[Row(artist='Martha Tilston', auth='Logged In', firstName='Colin', gender='M', itemInSession=50, lastName='Freeman', length=277.89016, level='paid', location='Bakersfield, CA', method='PUT', page='NextSong', registration=1538173362000, sessionId=29, song='Rockpools', status=200, ts=1538352117000, userAgent='Mozilla/5.0 (Windows NT 6.1; WOW64; rv:31.0) Gecko/20100101 Firefox/31.0', userId='30')]"
      ]
     },
     "execution_count": 4,
     "metadata": {},
     "output_type": "execute_result"
    }
   ],
   "source": [
    "#读取数据（github有bz2压缩）\n",
    "df=spark.read.json('mini_sparkify_event_data.json.bz2')\n",
    "df.take(1)"
   ]
  },
  {
   "cell_type": "markdown",
   "metadata": {},
   "source": [
    "### 1.2 评估数据"
   ]
  },
  {
   "cell_type": "code",
   "execution_count": 53,
   "metadata": {},
   "outputs": [
    {
     "name": "stdout",
     "output_type": "stream",
     "text": [
      "+----------------+---------+---------+------+-------------+--------+---------+-----+--------------------+------+--------+-------------+---------+--------------------+------+-------------+--------------------+------+\n",
      "|          artist|     auth|firstName|gender|itemInSession|lastName|   length|level|            location|method|    page| registration|sessionId|                song|status|           ts|           userAgent|userId|\n",
      "+----------------+---------+---------+------+-------------+--------+---------+-----+--------------------+------+--------+-------------+---------+--------------------+------+-------------+--------------------+------+\n",
      "|  Martha Tilston|Logged In|    Colin|     M|           50| Freeman|277.89016| paid|     Bakersfield, CA|   PUT|NextSong|1538173362000|       29|           Rockpools|   200|1538352117000|Mozilla/5.0 (Wind...|    30|\n",
      "|Five Iron Frenzy|Logged In|    Micah|     M|           79|    Long|236.09424| free|Boston-Cambridge-...|   PUT|NextSong|1538331630000|        8|              Canada|   200|1538352180000|\"Mozilla/5.0 (Win...|     9|\n",
      "|    Adam Lambert|Logged In|    Colin|     M|           51| Freeman| 282.8273| paid|     Bakersfield, CA|   PUT|NextSong|1538173362000|       29|   Time For Miracles|   200|1538352394000|Mozilla/5.0 (Wind...|    30|\n",
      "|          Enigma|Logged In|    Micah|     M|           80|    Long|262.71302| free|Boston-Cambridge-...|   PUT|NextSong|1538331630000|        8|Knocking On Forbi...|   200|1538352416000|\"Mozilla/5.0 (Win...|     9|\n",
      "|       Daft Punk|Logged In|    Colin|     M|           52| Freeman|223.60771| paid|     Bakersfield, CA|   PUT|NextSong|1538173362000|       29|Harder Better Fas...|   200|1538352676000|Mozilla/5.0 (Wind...|    30|\n",
      "+----------------+---------+---------+------+-------------+--------+---------+-----+--------------------+------+--------+-------------+---------+--------------------+------+-------------+--------------------+------+\n",
      "only showing top 5 rows\n",
      "\n"
     ]
    }
   ],
   "source": [
    "#查看数据前5行\n",
    "df.show(5)\n",
    "#status是重定向的情况。307与200，length是歌曲长度"
   ]
  },
  {
   "cell_type": "code",
   "execution_count": 54,
   "metadata": {},
   "outputs": [
    {
     "name": "stdout",
     "output_type": "stream",
     "text": [
      "root\n",
      " |-- artist: string (nullable = true)\n",
      " |-- auth: string (nullable = true)\n",
      " |-- firstName: string (nullable = true)\n",
      " |-- gender: string (nullable = true)\n",
      " |-- itemInSession: long (nullable = true)\n",
      " |-- lastName: string (nullable = true)\n",
      " |-- length: double (nullable = true)\n",
      " |-- level: string (nullable = true)\n",
      " |-- location: string (nullable = true)\n",
      " |-- method: string (nullable = true)\n",
      " |-- page: string (nullable = true)\n",
      " |-- registration: long (nullable = true)\n",
      " |-- sessionId: long (nullable = true)\n",
      " |-- song: string (nullable = true)\n",
      " |-- status: long (nullable = true)\n",
      " |-- ts: long (nullable = true)\n",
      " |-- userAgent: string (nullable = true)\n",
      " |-- userId: string (nullable = true)\n",
      "\n"
     ]
    }
   ],
   "source": [
    "#查看各列\n",
    "df.printSchema()"
   ]
  },
  {
   "cell_type": "code",
   "execution_count": 55,
   "metadata": {},
   "outputs": [
    {
     "data": {
      "text/plain": [
       "286500"
      ]
     },
     "execution_count": 55,
     "metadata": {},
     "output_type": "execute_result"
    }
   ],
   "source": [
    "df.count()"
   ]
  },
  {
   "cell_type": "markdown",
   "metadata": {},
   "source": [
    "* 数据集共有286500行,18列\n",
    "* 连续变量有itemInSession\\length\\sessionId\\registration\\ts, 剩下变量均为分类变量"
   ]
  },
  {
   "cell_type": "code",
   "execution_count": 56,
   "metadata": {},
   "outputs": [
    {
     "name": "stdout",
     "output_type": "stream",
     "text": [
      "+------+\n",
      "|userId|\n",
      "+------+\n",
      "|      |\n",
      "|    10|\n",
      "|   100|\n",
      "|100001|\n",
      "|100002|\n",
      "+------+\n",
      "only showing top 5 rows\n",
      "\n"
     ]
    }
   ],
   "source": [
    "#查看ID列\n",
    "df.select('userId').dropDuplicates().sort('userId').show(5)"
   ]
  },
  {
   "cell_type": "markdown",
   "metadata": {},
   "source": [
    "#### 分析：\n",
    "* userId列存在非NA的空值，需要删除"
   ]
  },
  {
   "cell_type": "code",
   "execution_count": 57,
   "metadata": {},
   "outputs": [
    {
     "name": "stdout",
     "output_type": "stream",
     "text": [
      "+-------------+-------------+\n",
      "| registration|           ts|\n",
      "+-------------+-------------+\n",
      "|1538173362000|1538352117000|\n",
      "|1538331630000|1538352180000|\n",
      "|1538173362000|1538352394000|\n",
      "|1538331630000|1538352416000|\n",
      "|1538173362000|1538352676000|\n",
      "+-------------+-------------+\n",
      "only showing top 5 rows\n",
      "\n"
     ]
    }
   ],
   "source": [
    "#查看registration,ts列\n",
    "df.select('registration','ts').show(5)"
   ]
  },
  {
   "cell_type": "markdown",
   "metadata": {},
   "source": [
    "#### 分析：\n",
    "* registration、ts应该是时间戳，重新命名，并转换为时间格式"
   ]
  },
  {
   "cell_type": "code",
   "execution_count": 58,
   "metadata": {},
   "outputs": [
    {
     "name": "stdout",
     "output_type": "stream",
     "text": [
      "+--------------------+\n",
      "|                page|\n",
      "+--------------------+\n",
      "|              Cancel|\n",
      "|    Submit Downgrade|\n",
      "|         Thumbs Down|\n",
      "|                Home|\n",
      "|           Downgrade|\n",
      "|         Roll Advert|\n",
      "|              Logout|\n",
      "|       Save Settings|\n",
      "|Cancellation Conf...|\n",
      "|               About|\n",
      "| Submit Registration|\n",
      "|            Settings|\n",
      "|               Login|\n",
      "|            Register|\n",
      "|     Add to Playlist|\n",
      "|          Add Friend|\n",
      "|            NextSong|\n",
      "|           Thumbs Up|\n",
      "|                Help|\n",
      "|             Upgrade|\n",
      "+--------------------+\n",
      "only showing top 20 rows\n",
      "\n"
     ]
    }
   ],
   "source": [
    "#查看page列取值情况\n",
    "df.select('page').dropDuplicates().show()"
   ]
  },
  {
   "cell_type": "markdown",
   "metadata": {},
   "source": [
    "### 1.3清理"
   ]
  },
  {
   "cell_type": "markdown",
   "metadata": {},
   "source": [
    "* 删除ID列NA，及空值"
   ]
  },
  {
   "cell_type": "code",
   "execution_count": 59,
   "metadata": {},
   "outputs": [],
   "source": [
    "#删除NA值\n",
    "df_valid=df.dropna(how=\"any\",subset=[\"userId\",\"sessionId\"])\n",
    "df_valid=df_valid.filter(df[\"userId\"]!=\"\")"
   ]
  },
  {
   "cell_type": "code",
   "execution_count": 60,
   "metadata": {},
   "outputs": [
    {
     "name": "stdout",
     "output_type": "stream",
     "text": [
      "+------+\n",
      "|userId|\n",
      "+------+\n",
      "|    10|\n",
      "|   100|\n",
      "|100001|\n",
      "|100002|\n",
      "|100003|\n",
      "+------+\n",
      "only showing top 5 rows\n",
      "\n"
     ]
    }
   ],
   "source": [
    "#检查结果\n",
    "df_valid.select('userId').dropDuplicates().sort('userId').show(5)"
   ]
  },
  {
   "cell_type": "markdown",
   "metadata": {},
   "source": [
    "* ts、registration重命名并转换格式并存于新列"
   ]
  },
  {
   "cell_type": "code",
   "execution_count": 61,
   "metadata": {
    "scrolled": true
   },
   "outputs": [],
   "source": [
    "#时间格式转换\n",
    "convert_ts=udf(lambda x:datetime.datetime.fromtimestamp(x/1000.0).strftime(\"%Y-%m-%d %H:%M:%S\"))\n",
    "df_valid=df_valid.withColumn('event_time',convert_ts('ts'))\n",
    "df_valid=df_valid.withColumn('registration_time',convert_ts('registration'))"
   ]
  },
  {
   "cell_type": "code",
   "execution_count": 62,
   "metadata": {},
   "outputs": [
    {
     "name": "stdout",
     "output_type": "stream",
     "text": [
      "+-------------------+-------------------+\n",
      "|         event_time|  registration_time|\n",
      "+-------------------+-------------------+\n",
      "|2018-10-01 00:01:57|2018-09-28 22:22:42|\n",
      "|2018-10-01 00:03:00|2018-09-30 18:20:30|\n",
      "|2018-10-01 00:06:34|2018-09-28 22:22:42|\n",
      "|2018-10-01 00:06:56|2018-09-30 18:20:30|\n",
      "|2018-10-01 00:11:16|2018-09-28 22:22:42|\n",
      "+-------------------+-------------------+\n",
      "only showing top 5 rows\n",
      "\n"
     ]
    }
   ],
   "source": [
    "#检查结果\n",
    "df_valid.select('event_time','registration_time').show(5)"
   ]
  },
  {
   "cell_type": "markdown",
   "metadata": {},
   "source": [
    "# 2探索性数据分析\n",
    "当你使用完整数据集时，通过加载小数据集，在 Spark 中完成基础操作来实现探索性数据分析。在这个 Workspace 中，我们已经提供给你一个你可以探索的小数据集。\n",
    "\n",
    "### 2.1定义客户流失\n",
    "\n",
    "在你完成初步分析之后，创建一列 `Churn` 作为模型的标签。我建议你使用 `Cancellation Confirmation` 事件来定义客户流失，该事件在付费或免费客户身上都有发生。作为一个奖励任务，你也可以深入了解 `Downgrade` 事件。\n",
    "\n"
   ]
  },
  {
   "cell_type": "code",
   "execution_count": 63,
   "metadata": {},
   "outputs": [],
   "source": [
    "#创建一列作为Cancellation Confirmation事件标签\n",
    "flag_churn_event=udf(lambda x:1 if x=='Cancellation Confirmation' else 0,IntegerType())\n",
    "df_valid=df_valid.withColumn('churn_event',flag_churn_event(\"page\"))#"
   ]
  },
  {
   "cell_type": "code",
   "execution_count": 64,
   "metadata": {},
   "outputs": [],
   "source": [
    "#创建一列作为Cancellation Confirmation/流失用户标签\n",
    "windowval=Window.partitionBy('userId')#\n",
    "df_valid=df_valid.withColumn('churn',max('churn_event').over(windowval))#用户只要churn_event标记了1，他的chunk为1"
   ]
  },
  {
   "cell_type": "code",
   "execution_count": 65,
   "metadata": {},
   "outputs": [
    {
     "name": "stdout",
     "output_type": "stream",
     "text": [
      "+------+-----+\n",
      "|userId|churn|\n",
      "+------+-----+\n",
      "|100010|    0|\n",
      "|200002|    0|\n",
      "|   125|    1|\n",
      "|   124|    0|\n",
      "|    51|    1|\n",
      "|     7|    0|\n",
      "|    15|    0|\n",
      "|    54|    1|\n",
      "|   155|    0|\n",
      "|100014|    1|\n",
      "+------+-----+\n",
      "only showing top 10 rows\n",
      "\n"
     ]
    }
   ],
   "source": [
    "#检查结果\n",
    "df_valid.select(['userId','churn']).dropDuplicates().show(10)"
   ]
  },
  {
   "cell_type": "markdown",
   "metadata": {},
   "source": [
    "### 2.2探索数据\n",
    "你定义好客户流失后，就可以执行一些探索性数据分析，观察留存用户和流失用户的行为。你可以首先把这两类用户的数据聚合到一起，观察固定时间内某个特定动作出现的次数或者播放音乐的数量。"
   ]
  },
  {
   "cell_type": "code",
   "execution_count": 66,
   "metadata": {},
   "outputs": [
    {
     "name": "stdout",
     "output_type": "stream",
     "text": [
      "+---------+--------------------+--------------------+-----+------+-----+-------------------+-------------------+\n",
      "|     page|              artist|                song|level|userId|churn|         event_time|  registration_time|\n",
      "+---------+--------------------+--------------------+-----+------+-----+-------------------+-------------------+\n",
      "| NextSong|Sleeping With Sirens|Captain Tyin Knot...| free|100010|    0|2018-10-08 12:58:54|2018-09-27 02:45:40|\n",
      "| NextSong|Francesca Battist...|Beautiful_ Beauti...| free|100010|    0|2018-10-08 13:02:16|2018-09-27 02:45:40|\n",
      "| NextSong|              Brutha|          She's Gone| free|100010|    0|2018-10-08 13:05:32|2018-09-27 02:45:40|\n",
      "|Thumbs Up|                null|                null| free|100010|    0|2018-10-08 13:05:33|2018-09-27 02:45:40|\n",
      "| NextSong|         Josh Ritter|      Folk Bloodbath| free|100010|    0|2018-10-08 13:09:55|2018-09-27 02:45:40|\n",
      "+---------+--------------------+--------------------+-----+------+-----+-------------------+-------------------+\n",
      "only showing top 5 rows\n",
      "\n"
     ]
    }
   ],
   "source": [
    "#观察主要列基本情况\n",
    "df_valid.select([\"page\",\"artist\",\"song\",\"level\",\"userId\",\"churn\",\"event_time\",\"registration_time\"]).show(5)"
   ]
  },
  {
   "cell_type": "markdown",
   "metadata": {},
   "source": [
    "#### 2.2.1是否注销与用户听歌数量的关系"
   ]
  },
  {
   "cell_type": "code",
   "execution_count": 67,
   "metadata": {
    "scrolled": true
   },
   "outputs": [
    {
     "data": {
      "image/png": "[encoded data removed]",
      "text/plain": [
       "<matplotlib.figure.Figure at 0x7fddf0885780>"
      ]
     },
     "metadata": {
      "needs_background": "light"
     },
     "output_type": "display_data"
    }
   ],
   "source": [
    "#提取NextSong数据，查看用户听歌数量的分布\n",
    "lifetime_songs=df_valid.where('page==\"NextSong\"').groupby(['userId','churn']).count().toPandas()\n",
    "\n",
    "#绘制小提琴图\n",
    "ax=sns.violinplot(data=lifetime_songs,x='churn',y='count')\n",
    "plt.xlabel('Has customer churned?')\n",
    "plt.ylabel('lifdtime songs')\n",
    "plt.title('Churned customers listened to less music')\n",
    "sns.despine(ax=ax)"
   ]
  },
  {
   "cell_type": "markdown",
   "metadata": {},
   "source": [
    "* 相比于非注销用户，注销用户听歌的数量较少，且数量的分布相对集中，其小提琴图形相对扁平"
   ]
  },
  {
   "cell_type": "markdown",
   "metadata": {},
   "source": [
    "#### 2.2.2是否注销与单次听歌数量关系"
   ]
  },
  {
   "cell_type": "code",
   "execution_count": 68,
   "metadata": {},
   "outputs": [
    {
     "data": {
      "image/png": "[encoded data removed]",
      "text/plain": [
       "<matplotlib.figure.Figure at 0x7fddf11a1da0>"
      ]
     },
     "metadata": {
      "needs_background": "light"
     },
     "output_type": "display_data"
    }
   ],
   "source": [
    "#提取NextSong数据，观察同一sessionId下听歌的平均数量的分布\n",
    "avg_songs_listened=df_valid.where('page==\"NextSong\"').groupby(['churn', 'userId' ,'sessionId']).count().groupby(['churn','userId']).agg({'count':'avg'}).toPandas()\n",
    "\n",
    "#绘制小提琴图\n",
    "ax=sns.violinplot('churn',y='avg(count)',data=avg_songs_listened)\n",
    "plt.xlabel('Has customer churned')\n",
    "plt.ylabel('Average songs listened per session')\n",
    "plt.title('Churned customers played less music per session' )\n",
    "sns.despine(ax=ax)"
   ]
  },
  {
   "cell_type": "markdown",
   "metadata": {},
   "source": [
    "* 相比于非注销用户，大部分注销用户同一sessionId下听歌的数量较少"
   ]
  },
  {
   "cell_type": "markdown",
   "metadata": {},
   "source": [
    "#### 2.2.3是否注销与用户点赞量关系"
   ]
  },
  {
   "cell_type": "code",
   "execution_count": 69,
   "metadata": {},
   "outputs": [
    {
     "data": {
      "image/png": "[encoded data removed]",
      "text/plain": [
       "<matplotlib.figure.Figure at 0x7fddf0709550>"
      ]
     },
     "metadata": {
      "needs_background": "light"
     },
     "output_type": "display_data"
    }
   ],
   "source": [
    "#提取humbs Up数据，观察用户点赞数量分布\n",
    "a=df_valid.where('page==\"Thumbs Up\"').groupby(['userId','churn']).count().toPandas()\n",
    "\n",
    "ax=sns.violinplot(data=a,x='churn',y='count')\n",
    "plt.xlabel('Has customer churned?')\n",
    "plt.ylabel('lifdtime songs listened')\n",
    "plt.title('Churned customers played less music')\n",
    "sns.despine(ax=ax)"
   ]
  },
  {
   "cell_type": "markdown",
   "metadata": {},
   "source": [
    "* 相比于非注销用户，注销用户点赞的数量较少，且数量的分布相对集中"
   ]
  },
  {
   "cell_type": "markdown",
   "metadata": {},
   "source": [
    "#### 2.2.4是否注销与性别关系"
   ]
  },
  {
   "cell_type": "code",
   "execution_count": 70,
   "metadata": {},
   "outputs": [
    {
     "data": {
      "image/png": "[encoded data removed]",
      "text/plain": [
       "<matplotlib.figure.Figure at 0x7fddf05e7160>"
      ]
     },
     "metadata": {
      "needs_background": "light"
     },
     "output_type": "display_data"
    }
   ],
   "source": [
    "#提取性别与用户ID列，观察注销与性别间关系\n",
    "gender_churn=df_valid.dropDuplicates([\"userId\",\"gender\"]).groupby([\"churn\",\"gender\"]).count().toPandas()\n",
    "\n",
    "#绘制直方图\n",
    "ax=sns.barplot(x='gender',y='count',hue='churn',data=gender_churn)\n",
    "plt.xlabel('Gender')\n",
    "plt.ylabel('Count')\n",
    "plt.legend(title='Churned or not',loc='best')\n",
    "plt.title('Male customers are slightly likely to churn')\n",
    "sns.despine(ax=ax)"
   ]
  },
  {
   "cell_type": "markdown",
   "metadata": {},
   "source": [
    "* 男性用户注销账户的绝对人数以及比例均比女性大"
   ]
  },
  {
   "cell_type": "markdown",
   "metadata": {},
   "source": [
    "#### 2.2.5是否注销与用户存留天数关系"
   ]
  },
  {
   "cell_type": "code",
   "execution_count": 72,
   "metadata": {},
   "outputs": [
    {
     "data": {
      "image/png": "[encoded data removed]",
      "text/plain": [
       "<matplotlib.figure.Figure at 0x7fddf05c3908>"
      ]
     },
     "metadata": {
      "needs_background": "light"
     },
     "output_type": "display_data"
    }
   ],
   "source": [
    "user_lifetime=df_valid.select('userId','registration','ts','churn').withColumn('lifetime',(df_valid.ts-df_valid.registration)).groupBy('userId','churn').agg({'lifetime':'max'}).withColumnRenamed('max(lifetime)','lifetime').select('userId','churn',(col('lifetime')/1000/3600/24).alias('lifetime')).toPandas()                                                                                                                                  \n",
    "\n",
    "ax=sns.boxplot(data=user_lifetime,x='churn',y='lifetime') \n",
    "plt.xlabel('Has customer churned')\n",
    "plt.ylabel('Days since registration when churn')\n",
    "plt.title('Churned customer use the service for a shorter period of time')\n",
    "sns.despine(ax=ax)"
   ]
  },
  {
   "cell_type": "markdown",
   "metadata": {},
   "source": [
    "* 注销用户的存留天数更少"
   ]
  },
  {
   "cell_type": "markdown",
   "metadata": {},
   "source": [
    "# 3特征工程\n",
    "熟悉了数据之后，就可以构建你认为会对训练模型帮助最大的特征。要处理完整数据集，你可以按照下述步骤：\n",
    "- 写一个脚本来从小数据集中提取你需要的特征\n",
    "- 确保你的脚本可以拓展到大数据集上，使用之前教过的最佳实践原则\n",
    "- 在完整数据集上运行你的脚本，按运行情况调试代码\n",
    "\n",
    "如果是在教室的 workspace，你可以直接用里面提供的小数据集来提取特征。确保当你开始使用 Spark 集群的时候，把上述的成果迁移到大数据集上。"
   ]
  },
  {
   "cell_type": "markdown",
   "metadata": {},
   "source": [
    "### 5.1构建变量"
   ]
  },
  {
   "cell_type": "markdown",
   "metadata": {},
   "source": [
    "结合经验及以上的分析，构建以下变量：\n",
    "* 用户听歌数量：听歌数量越大，说明用户愿意使用该服务，注销几率越小。以上绘图分析也显示：注销用户听歌数量较未注销的少\n",
    "* 用户单次（同一sessionId）听歌平均数量：单次听歌数量越大，说明用户愿意使用该服务，注销几率越小。以上绘图分析也显示：注销用户单次听歌平均数量较未注销的少\n",
    "* 点赞量：点赞越多，说明用户喜欢该服务，注销几率越小。以上绘图分析也显示：注销用户点赞数量较未注销的少\n",
    "* 差评量：逻辑与点赞量恰好相反\n",
    "* 添加播放列表量：用户将歌曲加进播放列表，一般可说明用户喜欢该音乐；添加的量越多，用户愿意使用该服务的可能性越大，注销可能性越小。\n",
    "* 添加好友量：添加好友量越多，说明用于越愿意在改服务中交友分享，注销几率越小。\n",
    "* 歌曲时长总量：听歌时长越长，说明用户倾向于使用该服务，注销几率越小。\n",
    "* 播放的歌手数量：播放过的歌手数量越多，侧面说明用户听歌越多，越愿意使用该服务，注销几率越小。\n",
    "* 性别：以上绘图分析显示：男性用户注销的数量较女性多。推测是改服务更能吸引女性\n",
    "* 用户存留天数：一般来说，服务越吸引了用户，则用户存留越久，注销几率越小。以上绘图分析也显示：注销用户存留天数较未注销的短"
   ]
  },
  {
   "cell_type": "code",
   "execution_count": 73,
   "metadata": {},
   "outputs": [
    {
     "name": "stdout",
     "output_type": "stream",
     "text": [
      "+-------+------------------+-------------------+\n",
      "|summary|            userId|           lifetime|\n",
      "+-------+------------------+-------------------+\n",
      "|  count|               225|                225|\n",
      "|   mean|65391.013333333336|   79.8456834876543|\n",
      "| stddev|105396.47791907164|  37.66147001861254|\n",
      "|    min|                10|0.31372685185185184|\n",
      "|    max|                99|  256.3776736111111|\n",
      "+-------+------------------+-------------------+\n",
      "\n"
     ]
    }
   ],
   "source": [
    "#用户存留天数\n",
    "#用注册时间与动作发生时间相减，并取出最长的时间，便是用户存留天数\n",
    "f1=df_valid.select('userId','registration','ts').withColumn('lifetime',(df_valid.ts-df_valid.registration)).groupBy('userId').agg({'lifetime':'max'}).withColumnRenamed('max(lifetime)','lifetime').select('userId',(col('lifetime')/1000/3600/24).alias('lifetime'))\n",
    "f1.describe().show()"
   ]
  },
  {
   "cell_type": "code",
   "execution_count": 74,
   "metadata": {},
   "outputs": [
    {
     "name": "stdout",
     "output_type": "stream",
     "text": [
      "+-------+------------------+-----------------+\n",
      "|summary|            userID|      total_songs|\n",
      "+-------+------------------+-----------------+\n",
      "|  count|               225|              225|\n",
      "|   mean|65391.013333333336|          1236.24|\n",
      "| stddev|105396.47791907164|1329.531716432519|\n",
      "|    min|                10|                6|\n",
      "|    max|                99|             9632|\n",
      "+-------+------------------+-----------------+\n",
      "\n"
     ]
    }
   ],
   "source": [
    "#用户听歌数量\n",
    "#获取每个用户听过歌曲的歌名信息计数，获得用户听歌数量\n",
    "f2=df_valid.select('userID','song').groupBy('userID').count().withColumnRenamed('count','total_songs')\n",
    "f2.describe().show()"
   ]
  },
  {
   "cell_type": "code",
   "execution_count": 75,
   "metadata": {},
   "outputs": [
    {
     "name": "stdout",
     "output_type": "stream",
     "text": [
      "+-------+------------------+-----------------+\n",
      "|summary|            userID|     num_thumb_up|\n",
      "+-------+------------------+-----------------+\n",
      "|  count|               220|              220|\n",
      "|   mean| 66420.27727272727|            57.05|\n",
      "| stddev|106196.51156121881|65.67028650524044|\n",
      "|    min|                10|                1|\n",
      "|    max|                99|              437|\n",
      "+-------+------------------+-----------------+\n",
      "\n"
     ]
    }
   ],
   "source": [
    "#点赞量\n",
    "#获取每个用户点击页面Thumbs Up的数量信息计数，可获得用户点赞量\n",
    "f3=df_valid.select('userID','page').where(df_valid.page=='Thumbs Up').groupBy('userID').count().withColumnRenamed('count','num_thumb_up')\n",
    "f3.describe().show()"
   ]
  },
  {
   "cell_type": "code",
   "execution_count": 76,
   "metadata": {},
   "outputs": [
    {
     "name": "stdout",
     "output_type": "stream",
     "text": [
      "+-------+------------------+------------------+\n",
      "|summary|            userId|    num_thumb_down|\n",
      "+-------+------------------+------------------+\n",
      "|  count|               203|               203|\n",
      "|   mean| 66066.16256157635|12.541871921182265|\n",
      "| stddev|106108.32569893777|13.198108566983787|\n",
      "|    min|                10|                 1|\n",
      "|    max|                99|                75|\n",
      "+-------+------------------+------------------+\n",
      "\n"
     ]
    }
   ],
   "source": [
    "#差评量\n",
    "#获取每个用户点击页面Thumbs Down的数量信息计数，可获得用户差评量\n",
    "f4=df_valid.select('userId','page').where(df_valid.page=='Thumbs Down').groupBy('userId').count().withColumnRenamed('count','num_thumb_down')\n",
    "f4.describe().show()"
   ]
  },
  {
   "cell_type": "code",
   "execution_count": 77,
   "metadata": {},
   "outputs": [
    {
     "name": "stdout",
     "output_type": "stream",
     "text": [
      "+-------+------------------+-----------------+\n",
      "|summary|            userID|  add_to_playlist|\n",
      "+-------+------------------+-----------------+\n",
      "|  count|               215|              215|\n",
      "|   mean| 66103.63720930232|30.35348837209302|\n",
      "| stddev|106360.47999565038| 32.8520568555997|\n",
      "|    min|                10|                1|\n",
      "|    max|                99|              240|\n",
      "+-------+------------------+-----------------+\n",
      "\n"
     ]
    }
   ],
   "source": [
    "#添加进播放列表量\n",
    "#获取每个用户点击页面Add to Playlist的数量信息计数，可获得用户添加进播放列表数量\n",
    "f5=df_valid.select('userID','page').where(df_valid.page=='Add to Playlist').groupBy('userID').count().withColumnRenamed('count','add_to_playlist')\n",
    "f5.describe().show()"
   ]
  },
  {
   "cell_type": "code",
   "execution_count": 78,
   "metadata": {},
   "outputs": [
    {
     "name": "stdout",
     "output_type": "stream",
     "text": [
      "+-------+------------------+------------------+\n",
      "|summary|            userID|        add_friend|\n",
      "+-------+------------------+------------------+\n",
      "|  count|               206|               206|\n",
      "|   mean| 66076.91262135922|20.762135922330096|\n",
      "| stddev|106860.60517425007|20.646779074405007|\n",
      "|    min|                10|                 1|\n",
      "|    max|                99|               143|\n",
      "+-------+------------------+------------------+\n",
      "\n"
     ]
    }
   ],
   "source": [
    "#添加好友量\n",
    "#获取每个用户点击页面Add Friend的数量信息计数，可获得用户添加好友书量\n",
    "f6=df_valid.select('userID','page').where(df_valid.page=='Add Friend').groupBy('userID').count().withColumnRenamed('count','add_friend')\n",
    "f6.describe().show()"
   ]
  },
  {
   "cell_type": "code",
   "execution_count": 79,
   "metadata": {},
   "outputs": [
    {
     "name": "stdout",
     "output_type": "stream",
     "text": [
      "+-------+------------------+------------------+\n",
      "|summary|            userID|       listen_time|\n",
      "+-------+------------------+------------------+\n",
      "|  count|               225|               225|\n",
      "|   mean|65391.013333333336|252558.32065155543|\n",
      "| stddev|105396.47791907164| 275396.4038847635|\n",
      "|    min|                10|         691.66884|\n",
      "|    max|                99|1991154.9155799907|\n",
      "+-------+------------------+------------------+\n",
      "\n"
     ]
    }
   ],
   "source": [
    "#歌曲时长总量\n",
    "#每个用户播放时长累加\n",
    "f7=df_valid.select('userID','length').groupBy('userID').sum().withColumnRenamed('sum(length)','listen_time')\n",
    "f7.describe().show()"
   ]
  },
  {
   "cell_type": "code",
   "execution_count": 80,
   "metadata": {},
   "outputs": [
    {
     "name": "stdout",
     "output_type": "stream",
     "text": [
      "+-------+------------------+-----------------+\n",
      "|summary|            userId| avg_songs_played|\n",
      "+-------+------------------+-----------------+\n",
      "|  count|               225|              225|\n",
      "|   mean|65391.013333333336|70.78971233958933|\n",
      "| stddev|105396.47791907164| 42.6153697543817|\n",
      "|    min|                10|              3.0|\n",
      "|    max|                99|286.6666666666667|\n",
      "+-------+------------------+-----------------+\n",
      "\n"
     ]
    }
   ],
   "source": [
    "#用户单次（同一sessionId）听歌平均数量\n",
    "#获取每个sessionId点击页面NextSong数量信息并计数，并按用户求均值，可获得用户单次（同一sessionId）听歌平均数量\n",
    "f8=df_valid.where('page==\"NextSong\"').groupBy('userId','sessionId').count().groupBy(['userId']).agg({'count':'avg'}).withColumnRenamed('avg(count)','avg_songs_played')\n",
    "f8.describe().show()"
   ]
  },
  {
   "cell_type": "code",
   "execution_count": 81,
   "metadata": {},
   "outputs": [
    {
     "name": "stdout",
     "output_type": "stream",
     "text": [
      "+-------+------------------+------+\n",
      "|summary|            userId|gender|\n",
      "+-------+------------------+------+\n",
      "|  count|               225|     0|\n",
      "|   mean|65391.013333333336|  null|\n",
      "| stddev|105396.47791907165|  null|\n",
      "|    min|                10|  null|\n",
      "|    max|                99|  null|\n",
      "+-------+------------------+------+\n",
      "\n"
     ]
    }
   ],
   "source": [
    "#性别\n",
    "#取gender列，把F、M变量转为0、1，方便模型计算\n",
    "f9=df_valid.select(\"userId\",\"gender\").dropDuplicates().replace(['paid','free'],['0','1'],'gender').select('userId',col('gender').cast('int'))\n",
    "f9.describe().show()"
   ]
  },
  {
   "cell_type": "code",
   "execution_count": 82,
   "metadata": {},
   "outputs": [
    {
     "name": "stdout",
     "output_type": "stream",
     "text": [
      "+-------+------------------+-----------------+\n",
      "|summary|            userId|     artist_count|\n",
      "+-------+------------------+-----------------+\n",
      "|  count|               225|              225|\n",
      "|   mean|65391.013333333336|696.3777777777777|\n",
      "| stddev|105396.47791907164|603.9518698630802|\n",
      "|    min|                10|                3|\n",
      "|    max|                99|             3544|\n",
      "+-------+------------------+-----------------+\n",
      "\n"
     ]
    }
   ],
   "source": [
    "#播放的歌手数量\n",
    "#获取每个用户点击页面NextSong时的artist信息并计数，可获得用户听过的歌手数量\n",
    "f10=df_valid.filter(df_valid.page==\"NextSong\").select(\"userID\",\"artist\").dropDuplicates().groupby(\"userId\").count().withColumnRenamed(\"count\",\"artist_count\")\n",
    "f10.describe().show()"
   ]
  },
  {
   "cell_type": "code",
   "execution_count": 83,
   "metadata": {},
   "outputs": [
    {
     "name": "stdout",
     "output_type": "stream",
     "text": [
      "+-------+------------------+------------------+\n",
      "|summary|            userId|             label|\n",
      "+-------+------------------+------------------+\n",
      "|  count|               225|               225|\n",
      "|   mean|65391.013333333336|0.2311111111111111|\n",
      "| stddev|105396.47791907164|0.4224832108996327|\n",
      "|    min|                10|                 0|\n",
      "|    max|                99|                 1|\n",
      "+-------+------------------+------------------+\n",
      "\n"
     ]
    }
   ],
   "source": [
    "#标签\n",
    "label=df_valid.select('userId',col('churn').alias('label')).dropDuplicates()\n",
    "label.describe().show()"
   ]
  },
  {
   "cell_type": "markdown",
   "metadata": {},
   "source": [
    "### 5.2变量聚合"
   ]
  },
  {
   "cell_type": "code",
   "execution_count": 84,
   "metadata": {},
   "outputs": [
    {
     "name": "stdout",
     "output_type": "stream",
     "text": [
      "+------------------+-----------+------------+--------------+---------------+----------+------------------+------------------+------+------------+-----+\n",
      "|          lifetime|total_songs|num_thumb_up|num_thumb_down|add_to_playlist|add_friend|       listen_time|  avg_songs_played|gender|artist_count|label|\n",
      "+------------------+-----------+------------+--------------+---------------+----------+------------------+------------------+------+------------+-----+\n",
      "|  55.6436574074074|        381|          17|             5|              7|         4| 66940.89735000003|39.285714285714285|     0|         252|    0|\n",
      "| 70.07462962962963|        474|          21|             6|              8|         4| 94008.87593999993|              64.5|     0|         339|    0|\n",
      "| 71.31688657407408|         11|           0|             0|              0|         0|2089.1131000000005|               8.0|     0|           8|    1|\n",
      "|131.55591435185184|       4825|         171|            41|            118|        74|1012312.0927899999|145.67857142857142|     0|        2232|    0|\n",
      "|19.455844907407407|       2464|         100|            21|             52|        28| 523275.8428000004|             211.1|     0|        1385|    1|\n",
      "+------------------+-----------+------------+--------------+---------------+----------+------------------+------------------+------+------------+-----+\n",
      "only showing top 5 rows\n",
      "\n"
     ]
    }
   ],
   "source": [
    "#汇总特征数据与标签\n",
    "data=f1.join(f2,'userID','outer')\\\n",
    "    .join(f3,'userID','outer')\\\n",
    "    .join(f4,'userID','outer')\\\n",
    "    .join(f5,'userID','outer')\\\n",
    "    .join(f6,'userID','outer')\\\n",
    "    .join(f7,'userID','outer')\\\n",
    "    .join(f8,'userID','outer')\\\n",
    "    .join(f9,'userID','outer')\\\n",
    "    .join(f10,'userID','outer')\\\n",
    "    .join(label,'userID','outer')\\\n",
    "    .drop('userID')\\\n",
    "    .fillna(0)\n",
    "data.show(5)"
   ]
  },
  {
   "cell_type": "code",
   "execution_count": null,
   "metadata": {},
   "outputs": [],
   "source": []
  },
  {
   "cell_type": "markdown",
   "metadata": {},
   "source": [
    "# 4建模\n",
    "将完整数据集分成训练集、测试集和验证集。测试几种你学过的机器学习方法。评价不同机器学习方法的准确率，根据情况调节参数。根据准确率你挑选出表现最好的那个模型，然后报告在训练集上的结果。因为流失顾客数据集很小，我建议选用 F1 score 作为优化指标。"
   ]
  },
  {
   "cell_type": "markdown",
   "metadata": {},
   "source": [
    "### 4.1准备数据"
   ]
  },
  {
   "cell_type": "code",
   "execution_count": 85,
   "metadata": {},
   "outputs": [
    {
     "name": "stdout",
     "output_type": "stream",
     "text": [
      "+------------------+-----------+------------+--------------+---------------+----------+------------------+------------------+------+------------+-----+--------------------+\n",
      "|          lifetime|total_songs|num_thumb_up|num_thumb_down|add_to_playlist|add_friend|       listen_time|  avg_songs_played|gender|artist_count|label|         NumFeatures|\n",
      "+------------------+-----------+------------+--------------+---------------+----------+------------------+------------------+------+------------+-----+--------------------+\n",
      "|  55.6436574074074|        381|          17|             5|              7|         4| 66940.89735000003|39.285714285714285|     0|         252|    0|[55.6436574074074...|\n",
      "| 70.07462962962963|        474|          21|             6|              8|         4| 94008.87593999993|              64.5|     0|         339|    0|[70.0746296296296...|\n",
      "| 71.31688657407408|         11|           0|             0|              0|         0|2089.1131000000005|               8.0|     0|           8|    1|(10,[0,1,6,7,9],[...|\n",
      "|131.55591435185184|       4825|         171|            41|            118|        74|1012312.0927899999|145.67857142857142|     0|        2232|    0|[131.555914351851...|\n",
      "|19.455844907407407|       2464|         100|            21|             52|        28| 523275.8428000004|             211.1|     0|        1385|    1|[19.4558449074074...|\n",
      "| 72.77818287037037|        201|           7|             1|              5|         1| 38034.08710000002|21.428571428571427|     0|         142|    0|[72.7781828703703...|\n",
      "|56.513576388888886|       2278|          81|            14|             59|        31|477307.60581000015|136.71428571428572|     0|        1302|    0|[56.5135763888888...|\n",
      "|110.75168981481481|       3437|         163|            29|             72|        33| 711344.9195400011| 81.17142857142858|     0|        1744|    1|[110.751689814814...|\n",
      "|23.556018518518517|       1002|          58|             3|             24|        11|       198779.2919|136.66666666666666|     0|         643|    0|[23.5560185185185...|\n",
      "| 85.08340277777778|        310|          17|             3|              7|         6| 67703.47208000004|42.833333333333336|     0|         233|    1|[85.0834027777777...|\n",
      "|  66.8891087962963|       2304|          96|            17|             38|        41| 483118.9038399997|             120.5|     0|        1299|    0|[66.8891087962963...|\n",
      "|23.872037037037035|        118|          11|             0|              1|         3|20660.023910000007|              28.0|     0|          78|    0|[23.8720370370370...|\n",
      "|53.965937499999995|       2149|          86|            16|             61|        29| 447464.0146699989|             179.7|     0|        1241|    1|[53.9659374999999...|\n",
      "|124.47825231481481|        848|          40|             9|             20|         6|159669.96303999983|           40.4375|     0|         534|    0|[124.478252314814...|\n",
      "| 66.62668981481481|       2469|          95|            24|             67|        41| 512449.8827599989|             138.0|     0|        1332|    0|[66.6266898148148...|\n",
      "| 74.35851851851852|       4428|         303|            28|            113|        63| 897406.9802100015|59.540983606557376|     0|        2070|    0|[74.3585185185185...|\n",
      "| 64.73886574074074|        319|          11|             5|              7|         7| 57633.17563999999|              46.0|     0|         207|    1|[64.7388657407407...|\n",
      "|60.104050925925925|       3603|         154|            22|             89|        47| 754517.5625700009| 89.05882352941177|     0|        1804|    1|[60.1040509259259...|\n",
      "| 71.42444444444445|       1342|          72|             9|             33|        12| 286064.0256399999|             125.0|     0|         865|    0|[71.4244444444444...|\n",
      "| 87.46262731481481|        292|           9|             3|              7|         7| 53062.74659000002| 23.88888888888889|     0|         195|    0|[87.4626273148148...|\n",
      "+------------------+-----------+------------+--------------+---------------+----------+------------------+------------------+------+------------+-----+--------------------+\n",
      "only showing top 20 rows\n",
      "\n"
     ]
    }
   ],
   "source": [
    "#用VectorAssembler将数据集转换为可供模型计算的结构（向量形式）\n",
    "cols=[\"lifetime\",\"total_songs\",\"num_thumb_up\",\"num_thumb_down\",\"add_to_playlist\",\"add_friend\",\"listen_time\",\"avg_songs_played\",\"gender\",\"artist_count\"]\n",
    "assembler=VectorAssembler(inputCols=cols,outputCol=\"NumFeatures\")#\n",
    "data=assembler.transform(data)#转成向量\n",
    "data.show()"
   ]
  },
  {
   "cell_type": "code",
   "execution_count": 86,
   "metadata": {},
   "outputs": [],
   "source": [
    "#用StandardScaler标准化数据\n",
    "scaler=StandardScaler(inputCol=\"NumFeatures\",outputCol=\"features\",withStd=True)\n",
    "scalerModel=scaler.fit(data)\n",
    "data=scalerModel.transform(data)"
   ]
  },
  {
   "cell_type": "code",
   "execution_count": 87,
   "metadata": {},
   "outputs": [],
   "source": [
    "#拆分为训练集、测试集和验证集\n",
    "train,validation,test=data.randomSplit([0.6,0.2,0.2],seed=42)"
   ]
  },
  {
   "cell_type": "markdown",
   "metadata": {},
   "source": [
    "### 4.2模型选择"
   ]
  },
  {
   "cell_type": "markdown",
   "metadata": {},
   "source": [
    "#### 4.2.1模型选择思路"
   ]
  },
  {
   "cell_type": "markdown",
   "metadata": {},
   "source": [
    "* 以全0/全1预测作为基线，机器学习算法的分数应该比全0/全1预测更高\n",
    "* 选用逻辑回归、支持向量机、随机森林进行对比，这几个模型一般不需要很多参数调整就可以达到不错的效果。他们的优缺点如下：\n",
    "  * 1、逻辑回归：优点：计算速度快，容易理解；缺点：容易产生欠拟合\n",
    "  * 2、支持向量机：数据量较小情况下解决机器学习问题，可以解决非线性问题。缺点：对缺失数据敏感\n",
    "  * 3、随机森林：优点：有抗过拟合能力。通过平均决策树，降低过拟合的风险性。缺点：大量的树结构会占用大量的空间和利用大量时间"
   ]
  },
  {
   "cell_type": "markdown",
   "metadata": {},
   "source": [
    "#### 4.2.2Baseline Model（全1/全0）"
   ]
  },
  {
   "cell_type": "code",
   "execution_count": 88,
   "metadata": {},
   "outputs": [
    {
     "name": "stdout",
     "output_type": "stream",
     "text": [
      "Test set metrics\n",
      "Accuracy:0.29411764705882354\n",
      "F-1 Score:0.1336898395721925\n"
     ]
    }
   ],
   "source": [
    "#对测试集进行预测，预测全为1\n",
    "results_base_all_1=test.withColumn('prediction',lit(1.0))#'prediction列全是1\n",
    "evaluator=MulticlassClassificationEvaluator(predictionCol='prediction')\n",
    "print('Test set metrics')\n",
    "print('Accuracy:{}'.format(evaluator.evaluate(results_base_all_1,{evaluator.metricName:\"accuracy\"})))\n",
    "print('F-1 Score:{}'.format(evaluator.evaluate(results_base_all_1,{evaluator.metricName:\"f1\"})))"
   ]
  },
  {
   "cell_type": "code",
   "execution_count": 89,
   "metadata": {},
   "outputs": [
    {
     "name": "stdout",
     "output_type": "stream",
     "text": [
      "Test set metrics\n",
      "Accuracy:0.7058823529411765\n",
      "F-1 Score:0.5841784989858012\n"
     ]
    }
   ],
   "source": [
    "#对测试集进行预测，预测全为0\n",
    "results_base_all_0=test.withColumn('prediction',lit(0.0))#'prediction列全是0\n",
    "evaluator=MulticlassClassificationEvaluator(predictionCol='prediction')\n",
    "print('Test set metrics')\n",
    "print('Accuracy:{}'.format(evaluator.evaluate(results_base_all_0,{evaluator.metricName:\"accuracy\"})))\n",
    "print('F-1 Score:{}'.format(evaluator.evaluate(results_base_all_0,{evaluator.metricName:\"f1\"})))"
   ]
  },
  {
   "cell_type": "markdown",
   "metadata": {},
   "source": [
    "#### 4.2.3LogisticRegression"
   ]
  },
  {
   "cell_type": "code",
   "execution_count": 90,
   "metadata": {},
   "outputs": [
    {
     "name": "stdout",
     "output_type": "stream",
     "text": [
      "The training process took91.51399517059326 second\n"
     ]
    }
   ],
   "source": [
    "#创建并训练模型，通过time()记录训练时间\n",
    "lr=LogisticRegression(maxIter=10)#初始化\n",
    "start=time()#开始时间\n",
    "model_lr=lr.fit(train)#训练\n",
    "end=time()#结束时间\n",
    "print('The training process took{} second'.format(end-start))"
   ]
  },
  {
   "cell_type": "code",
   "execution_count": 91,
   "metadata": {},
   "outputs": [
    {
     "name": "stdout",
     "output_type": "stream",
     "text": [
      "Logistic Regreession Metrics:\n",
      "Accuracy:0.7959183673469388\n",
      "F-1 Score:0.7871315192743764\n"
     ]
    }
   ],
   "source": [
    "#验证模型效果\n",
    "results_lr=model_lr.transform(validation)#验证集上预测\n",
    "evaluator=MulticlassClassificationEvaluator(predictionCol=\"prediction\")#评分器\n",
    "print('Logistic Regreession Metrics:')\n",
    "print('Accuracy:{}'.format(evaluator.evaluate(results_lr,{evaluator.metricName:\"accuracy\"})))#计算Accuracy\n",
    "print('F-1 Score:{}'.format(evaluator.evaluate(results_lr,{evaluator.metricName:\"f1\"})))#计算F-1 Score"
   ]
  },
  {
   "cell_type": "markdown",
   "metadata": {},
   "source": [
    "#### 4.2.4LinearSVC"
   ]
  },
  {
   "cell_type": "code",
   "execution_count": 92,
   "metadata": {},
   "outputs": [
    {
     "name": "stdout",
     "output_type": "stream",
     "text": [
      "The training process took174.3555302619934 second\n"
     ]
    }
   ],
   "source": [
    "#创建并训练模型\n",
    "svm=LinearSVC(maxIter=10)\n",
    "start=time()\n",
    "model_svm=svm.fit(train)\n",
    "end=time()\n",
    "print('The training process took{} second'.format(end-start))"
   ]
  },
  {
   "cell_type": "code",
   "execution_count": 93,
   "metadata": {},
   "outputs": [
    {
     "name": "stdout",
     "output_type": "stream",
     "text": [
      "LinearSVC Metrics:\n",
      "Accuracy:0.7959183673469388\n",
      "F-1 Score:0.7054730983302412\n"
     ]
    }
   ],
   "source": [
    "#验证模型效果\n",
    "results_svm=model_svm.transform(validation)\n",
    "evaluator=MulticlassClassificationEvaluator(predictionCol=\"prediction\")#\n",
    "print('LinearSVC Metrics:')\n",
    "print('Accuracy:{}'.format(evaluator.evaluate(results_svm,{evaluator.metricName:\"accuracy\"})))\n",
    "print('F-1 Score:{}'.format(evaluator.evaluate(results_svm,{evaluator.metricName:\"f1\"})))"
   ]
  },
  {
   "cell_type": "markdown",
   "metadata": {},
   "source": [
    "#### 4.2.5Random Forest"
   ]
  },
  {
   "cell_type": "code",
   "execution_count": 39,
   "metadata": {},
   "outputs": [
    {
     "name": "stdout",
     "output_type": "stream",
     "text": [
      "The training process took177.97566843032837 second\n"
     ]
    }
   ],
   "source": [
    "#创建并训练模型，通过time()记录训练时间\n",
    "rf=RandomForestClassifier()#初始化\n",
    "start=time()#开始时间\n",
    "model_rf=rf.fit(train)#训练\n",
    "end=time()#结束时间\n",
    "print('The training process took{} second'.format(end-start))"
   ]
  },
  {
   "cell_type": "code",
   "execution_count": 40,
   "metadata": {},
   "outputs": [
    {
     "name": "stdout",
     "output_type": "stream",
     "text": [
      "Logistic Regreession Metrics:\n",
      "Accuracy:0.8163265306122449\n",
      "F-1 Score:0.7912466191295796\n"
     ]
    }
   ],
   "source": [
    "#验证模型效果\n",
    "results_rf=model_rf.transform(validation)#验证集上预测\n",
    "evaluator=MulticlassClassificationEvaluator(predictionCol=\"prediction\")#评分器\n",
    "print('Random Forest Metrics:')\n",
    "print('Accuracy:{}'.format(evaluator.evaluate(results_rf,{evaluator.metricName:\"accuracy\"})))#计算Accuracy\n",
    "print('F-1 Score:{}'.format(evaluator.evaluate(results_rf,{evaluator.metricName:\"f1\"})))#计算F-1 Score"
   ]
  },
  {
   "cell_type": "code",
   "execution_count": null,
   "metadata": {},
   "outputs": [],
   "source": []
  },
  {
   "cell_type": "markdown",
   "metadata": {},
   "source": [
    "#### 4.2.6模型总结"
   ]
  },
  {
   "cell_type": "markdown",
   "metadata": {},
   "source": [
    "* LogisticRegression模型：Accuracy为0.7959；F-1 Score为0.7871；耗时87s\n",
    "* LinearSVC模型：Accuracy为0.7959；F-1 Score为0.7054；耗时170s\n",
    "* Random Forest模型：Accuracy0.8163；F-1 Score0.7912；耗时150s\n",
    "\n",
    "Random Forest的Accuracy及F-1 Score均最高，LogisticRegression耗时最小。考虑到Random Forest的训练耗时与LogisticRegression的训练耗时整体来说相差并非十分大，而我们希望获得效果更好的模型，故选用Random Forest模型，并通过调节模型参数获取更优模型"
   ]
  },
  {
   "cell_type": "markdown",
   "metadata": {},
   "source": [
    "### 4.3模型调优"
   ]
  },
  {
   "cell_type": "markdown",
   "metadata": {},
   "source": [
    "* 如上所述，选用Random Forest进行调优\n",
    "* 因为流失顾客数据集很小，Accuracy很难反映模型好坏，根据建议选用 F1 score 作为优化指标。\n",
    "* 使用3折交叉验证及参数网络对模型进行调优"
   ]
  },
  {
   "cell_type": "code",
   "execution_count": 45,
   "metadata": {},
   "outputs": [],
   "source": [
    "#创建模型\n",
    "rf=RandomForestClassifier()\n",
    "f1_evaluator=MulticlassClassificationEvaluator(metricName='f1')\n",
    "\n",
    "paramGrid=ParamGridBuilder().addGrid(rf.maxDepth,[3,5]).addGrid(rf.numTrees,[20,50]).build()\n",
    "\n",
    "crossval_rf=CrossValidator(estimator=rf,\n",
    "        estimatorParamMaps=paramGrid,\n",
    "        evaluator=f1_evaluator,\n",
    "        numFolds=3)"
   ]
  },
  {
   "cell_type": "code",
   "execution_count": 46,
   "metadata": {},
   "outputs": [
    {
     "data": {
      "text/plain": [
       "[0.7410024630805638,\n",
       " 0.7646356353673427,\n",
       " 0.7624867561386672,\n",
       " 0.7574763669177517]"
      ]
     },
     "execution_count": 46,
     "metadata": {},
     "output_type": "execute_result"
    }
   ],
   "source": [
    "#训练并获取最佳参数\n",
    "cvModel_rf=crossval_rf.fit(train)\n",
    "cvModel_rf.avgMetrics"
   ]
  },
  {
   "cell_type": "code",
   "execution_count": 47,
   "metadata": {},
   "outputs": [
    {
     "name": "stdout",
     "output_type": "stream",
     "text": [
      "Crossval Random Forest Metrics:\n",
      "Accuracy:0.8163265306122449\n",
      "F-1 Score:0.7912466191295796\n"
     ]
    }
   ],
   "source": [
    "#验证调优后效果\n",
    "results_rf_cv=cvModel_rf.transform(validation)\n",
    "evaluator=MulticlassClassificationEvaluator(predictionCol=\"prediction\")\n",
    "print('Crossval Random Forest Metrics:')\n",
    "print('Accuracy:{}'.format(evaluator.evaluate(results_rf_cv,{evaluator.metricName:\"accuracy\"})))\n",
    "print('F-1 Score:{}'.format(evaluator.evaluate(results_rf_cv,{evaluator.metricName:\"f1\"})))"
   ]
  },
  {
   "cell_type": "markdown",
   "metadata": {},
   "source": [
    "* 对比调优前后的模型在验证集上预测结果，调优前Accuracy0.8163；F-1 Score0.7912；调优后Accuracy为0.8235，F-1 Score为0.796，分别提升了XXX%及XXX%。"
   ]
  },
  {
   "cell_type": "markdown",
   "metadata": {},
   "source": [
    "### 4.4使用最佳模型预测"
   ]
  },
  {
   "cell_type": "code",
   "execution_count": 48,
   "metadata": {},
   "outputs": [
    {
     "name": "stdout",
     "output_type": "stream",
     "text": [
      "Test set metricd:\n",
      "Accuracy:0.8235294117647058\n",
      "F-1 Score:0.8082579185520363\n"
     ]
    }
   ],
   "source": [
    "#使用未优化模型预测\n",
    "results_final=model_rf.transform(test)\n",
    "evaluator=MulticlassClassificationEvaluator(predictionCol=\"prediction\")\n",
    "print('Test set metricd:')\n",
    "print('Accuracy:{}'.format(evaluator.evaluate(results_final,{evaluator.metricName:\"accuracy\"})))\n",
    "print('F-1 Score:{}'.format(evaluator.evaluate(results_final,{evaluator.metricName:\"f1\"})))"
   ]
  },
  {
   "cell_type": "code",
   "execution_count": 49,
   "metadata": {},
   "outputs": [
    {
     "name": "stdout",
     "output_type": "stream",
     "text": [
      "Test set metricd:\n",
      "Accuracy:0.8529411764705882\n",
      "F-1 Score:0.8353681095079541\n"
     ]
    }
   ],
   "source": [
    "#使用最佳模型预测\n",
    "results_final_best=cvModel_rf.transform(test)\n",
    "evaluator=MulticlassClassificationEvaluator(predictionCol=\"prediction\")\n",
    "print('Test set metricd:')\n",
    "print('Accuracy:{}'.format(evaluator.evaluate(results_final_best,{evaluator.metricName:\"accuracy\"})))\n",
    "print('F-1 Score:{}'.format(evaluator.evaluate(results_final_best,{evaluator.metricName:\"f1\"})))"
   ]
  },
  {
   "cell_type": "markdown",
   "metadata": {},
   "source": [
    "* 使用交叉验证和参数网络搜索调优随机森林的参数，对测试集进行预测。预测结果Accuracy为0.8235，F-1 Score为0.796，相比基线模型（Accuracy:0.7059；F-1 Score:0.584）分别有XXX%及XXX%提升。"
   ]
  },
  {
   "cell_type": "code",
   "execution_count": null,
   "metadata": {},
   "outputs": [],
   "source": []
  },
  {
   "cell_type": "code",
   "execution_count": null,
   "metadata": {},
   "outputs": [],
   "source": []
  },
  {
   "cell_type": "markdown",
   "metadata": {},
   "source": [
    "# 5总结"
   ]
  },
  {
   "cell_type": "markdown",
   "metadata": {},
   "source": [
    "### 5.1总结&反思"
   ]
  },
  {
   "cell_type": "markdown",
   "metadata": {},
   "source": [
    "* 过程总结\n",
    "    * 这个项目中，我们建立了一个预测流失用户的模型。\n",
    "    * 在数据集中，我们删除了没有用户ID的数据，将时间戳转为人们可读的格式；此外对流失用户建立了标识，并结合对特征与是否流失间关系的探索，并建立了10个特征\n",
    "    * 然后我们选择3个模型：逻辑回归，SVM和随机森林进行比较。根据比较结果。选择了随机森林预测最后结果。\n",
    "    * 接着我们使用交叉验证和参数网络搜索调优随机森林的参数，对测试集进行预测。预测结果Accuracy为0.8235，F-1 Score为0.796，相比基线模型（Accuracy:0.7059；F-1 Score:0.584）分别有XXX%及XXX%提升。"
   ]
  },
  {
   "cell_type": "markdown",
   "metadata": {},
   "source": [
    "* 过程反思\n",
    "    * 构建合适的特征对于建立好的模型十分重要。而数据集中，现成的可用于预测的特征并不多；我们需要重新构造特征来预测流失用户。而从数据集中构造变量一方面需要经验与知识的积累，一方面需要熟悉手上的数据\n",
    "    * 对比各未经优化的模型间Accuracy及F-1 Score，对于Accuracy各模型相差不大，LogisticRegression及Random Forest的F-1 Score相近。后续想有较大幅度提升，可能需要进一步优化特征选取"
   ]
  },
  {
   "cell_type": "markdown",
   "metadata": {},
   "source": [
    "* （暂时不用，后续删除）\n",
    "虽然最终采用逻辑回归作为最终模型是因为其accuracy与f1分数最高，但我认为分数还有进一步提高的可能，有这种想法主要因为以下几点：\n",
    "\n",
    "第一次运算时SVM与逻辑回归分数一样，一般上讲逻辑回归容易欠拟合，但和SVM模型结果一样，说明逻辑回归欠拟合的可能性较小；\n",
    "三种模型的f1分数并不高，说明pricision和recall始终不平衡；\n",
    "最佳逻辑回归模型代入测试集运算后，accuracy与f1均下降了3%左右，并没有与之前差很多。\n",
    "综合以上观点，我认为在特征工程部分出现了偏差导致这种现象，我选择的特征与用户流失率的关系不是特别相关。在后续完善工作中，我认为以下方案可以提高accuracy与f1分数：\n",
    "\n",
    "增加参考标准，计算没有用户流失和全部用户流失的accuracy与f1分数，评估其他模型好坏；\n",
    "回顾数据集，对未理解的特征进行探究，了解其含义，找到与数据集相关性更强的特征；\n",
    "增加决策树、梯度提升树等其他算法，对比已使用的算法，观察accuracy与f1分数变化。\n",
    "在完成项目的过程中遇到以下难点，思考其解决方案时间较久，不过最终都解决了：\n",
    "\n",
    "每次运行模型，分数总会变化。造成该问题的主要原因是每次被分割的数据集均在变化，每次关掉IDE，变量就会被清空，重新加载运行，必然重新分割数据集；\n",
    "开始将会员是否付费作为特征，代入模型计算，但分数较现在更低，思考后，感觉该特征和用户流失率并无因果关系，删去此特征后，accuracy与f1分数均有提高。"
   ]
  },
  {
   "cell_type": "markdown",
   "metadata": {},
   "source": [
    "### 5.3改进"
   ]
  },
  {
   "cell_type": "markdown",
   "metadata": {},
   "source": [
    "1、数据量方面：相对原始数据而言，这个只是一个相对较小的数据集。如果增加数据量，可以得到预测效果更好的模型\n",
    "\n",
    "2、特征方面：用于预测流失用户的特征进一步增加完善，找到与数据集相关性更强的特征，以提升模型性能。如增加用户注销账户时的的等级作为特征；或者对未理解未探索的特征进一步研究\n",
    "\n",
    "3、模型方面：选用决策树、梯度提升树等其他算法，对比已使用的算法，观察accuracy与f1分数变化"
   ]
  },
  {
   "cell_type": "markdown",
   "metadata": {},
   "source": [
    "# 6最后一步\n",
    "清理你的代码，添加注释和重命名变量，使得代码更易读和易于维护。参考 Spark 项目概述页面和数据科学家毕业项目审阅要求，确保你的项目包含了毕业项目要求的所有内容，并且满足所有审阅要求。记得在 GitHub 代码库里包含一份全面的文档——README文件，以及一个网络应用程序或博客文章。"
   ]
  },
  {
   "cell_type": "code",
   "execution_count": null,
   "metadata": {},
   "outputs": [],
   "source": []
  }
 ],
 "metadata": {
  "kernelspec": {
   "display_name": "Python 3",
   "language": "python",
   "name": "python3"
  },
  "language_info": {
   "codemirror_mode": {
    "name": "ipython",
    "version": 3
   },
   "file_extension": ".py",
   "mimetype": "text/x-python",
   "name": "python",
   "nbconvert_exporter": "python",
   "pygments_lexer": "ipython3",
   "version": "3.6.3"
  }
 },
 "nbformat": 4,
 "nbformat_minor": 2
}
